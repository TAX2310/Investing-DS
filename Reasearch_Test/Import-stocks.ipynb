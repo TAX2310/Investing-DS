{
 "cells": [
  {
   "cell_type": "markdown",
   "metadata": {},
   "source": [
    "YFinance"
   ]
  },
  {
   "cell_type": "code",
   "execution_count": 34,
   "metadata": {},
   "outputs": [],
   "source": [
    "# Provides ways to work with large multidimensional arrays\n",
    "import numpy as np \n",
    "# Allows for further data manipulation and analysis\n",
    "import pandas as pd \n",
    "import matplotlib.pyplot as plt # Plotting\n",
    "import matplotlib.dates as mdates # Styling dates\n",
    "%matplotlib inline\n",
    "\n",
    "# pip install numpy\n",
    "# conda install -c anaconda pandas\n",
    "# conda install -c conda-forge matplotlib\n",
    "\n",
    "import datetime as dt # For defining dates\n",
    "\n",
    "import time\n",
    "\n",
    "# In Powershell Prompt : conda install -c conda-forge multitasking\n",
    "# pip install -i https://pypi.anaconda.org/ranaroussi/simple yfinance\n",
    "\n",
    "import yfinance as yf"
   ]
  },
  {
   "cell_type": "code",
   "execution_count": 35,
   "metadata": {},
   "outputs": [],
   "source": [
    "def get_info_on_stock(ticker):\n",
    "    stock = yf.Ticker(ticker)\n",
    "    \n",
    "    # Get overview of company\n",
    "    print(stock.info)\n",
    "\n",
    "    # Get historical closing price data\n",
    "    hist = stock.history(period=\"max\")[\"Close\"]\n",
    "    print(hist.head())\n",
    "\n",
    "    # Get financial data\n",
    "    print(stock.financials)\n",
    "\n",
    "    # Get major share holders\n",
    "    print(stock.major_holders)\n",
    "\n",
    "    # Get institutional holders\n",
    "    print(stock.institutional_holders)\n",
    "\n",
    "    # Get balance sheet\n",
    "    print(stock.balance_sheet)\n",
    "\n",
    "    # Show cashflow\n",
    "    print(stock.cashflow)\n",
    "\n",
    "    # Show earnings\n",
    "    print(stock.earnings)\n",
    "\n",
    "    # Show analysts recommendations\n",
    "    print(stock.recommendations)"
   ]
  },
  {
   "cell_type": "code",
   "execution_count": 36,
   "metadata": {},
   "outputs": [
    {
     "name": "stdout",
     "output_type": "stream",
     "text": [
      "{'zip': '5039', 'sector': 'Utilities', 'longBusinessSummary': '1414 Degrees Limited offers silicon-based thermal energy storage systems for networks and industries in Australia. It provides heat and electricity from renewable energy sources. The company was formerly known as Latent Heat Storage Pty Ltd and changed its name to 1414 Degrees Limited in December 2016. 1414 Degrees Limited was incorporated in 2009 and is based in Melrose Park, Australia.', 'city': 'Melrose Park', 'phone': '61 8 8357 8273', 'state': 'SA', 'country': 'Australia', 'companyOfficers': [], 'website': 'https://1414degrees.com.au', 'maxAge': 1, 'address1': '136 Daws Road', 'industry': 'Utilities—Independent Power Producers', 'ebitdaMargins': 0, 'profitMargins': 0, 'grossMargins': 1, 'operatingCashflow': -2393455, 'revenueGrowth': None, 'operatingMargins': -6.1708302, 'ebitda': -2969202, 'targetLowPrice': None, 'recommendationKey': 'none', 'grossProfits': None, 'freeCashflow': -1790165, 'targetMedianPrice': None, 'currentPrice': 0.107, 'earningsGrowth': None, 'currentRatio': 6.364, 'returnOnAssets': -0.1273, 'numberOfAnalystOpinions': None, 'targetMeanPrice': None, 'debtToEquity': 13.621, 'returnOnEquity': -0.46623, 'targetHighPrice': None, 'totalCash': 5704957, 'totalDebt': 1570232, 'totalRevenue': 486553, 'totalCashPerShare': 0.028, 'financialCurrency': 'AUD', 'revenuePerShare': 0.003, 'quickRatio': 6.233, 'recommendationMean': None, 'exchange': 'ASX', 'shortName': '1414DEGREE FPO', 'longName': '1414 Degrees Limited', 'exchangeTimezoneName': 'Australia/Sydney', 'exchangeTimezoneShortName': 'AEDT', 'isEsgPopulated': False, 'gmtOffSetMilliseconds': '39600000', 'quoteType': 'EQUITY', 'symbol': '14D.AX', 'messageBoardId': 'finmb_550418331', 'market': 'au_market', 'annualHoldingsTurnover': None, 'enterpriseToRevenue': 34.784, 'beta3Year': None, 'enterpriseToEbitda': -5.7, '52WeekChange': -0.58653843, 'morningStarRiskRating': None, 'forwardEps': None, 'revenueQuarterlyGrowth': None, 'sharesOutstanding': 201484992, 'fundInceptionDate': None, 'annualReportExpenseRatio': None, 'totalAssets': None, 'bookValue': 0.058, 'sharesShort': None, 'sharesPercentSharesOut': None, 'fundFamily': None, 'lastFiscalYearEnd': 1625011200, 'heldPercentInstitutions': 0, 'netIncomeToCommon': -5974178, 'trailingEps': -0.031, 'lastDividendValue': None, 'SandP52WeekChange': 0.17128062, 'priceToBook': 1.8448277, 'heldPercentInsiders': 0.29317, 'nextFiscalYearEnd': 1688083200, 'yield': None, 'mostRecentQuarter': 1625011200, 'shortRatio': None, 'sharesShortPreviousMonthDate': None, 'floatShares': 141511448, 'beta': 1.21327, 'enterpriseValue': 16924124, 'priceHint': 4, 'threeYearAverageReturn': None, 'lastSplitDate': None, 'lastSplitFactor': None, 'legalType': None, 'lastDividendDate': None, 'morningStarOverallRating': None, 'earningsQuarterlyGrowth': None, 'priceToSalesTrailing12Months': 44.309444, 'dateShortInterest': None, 'pegRatio': None, 'ytdReturn': None, 'forwardPE': None, 'lastCapGain': None, 'shortPercentOfFloat': None, 'sharesShortPriorMonth': None, 'impliedSharesOutstanding': 200310000, 'category': None, 'fiveYearAverageReturn': None, 'previousClose': 0.105, 'regularMarketOpen': 0.11, 'twoHundredDayAverage': 0.12184, 'trailingAnnualDividendYield': 0, 'payoutRatio': 0, 'volume24Hr': None, 'regularMarketDayHigh': 0.11, 'navPrice': None, 'averageDailyVolume10Day': 157623, 'regularMarketPreviousClose': 0.105, 'fiftyDayAverage': 0.112, 'trailingAnnualDividendRate': 0, 'open': 0.11, 'toCurrency': None, 'averageVolume10days': 157623, 'expireDate': None, 'algorithm': None, 'dividendRate': None, 'exDividendDate': None, 'circulatingSupply': None, 'startDate': None, 'regularMarketDayLow': 0.107, 'currency': 'AUD', 'regularMarketVolume': 26818, 'lastMarket': None, 'maxSupply': None, 'openInterest': None, 'marketCap': 21558894, 'volumeAllCurrencies': None, 'strikePrice': None, 'averageVolume': 123016, 'dayLow': 0.107, 'ask': 0.11, 'askSize': 0, 'volume': 26818, 'fiftyTwoWeekHigh': 0.275, 'fromCurrency': None, 'fiveYearAvgDividendYield': None, 'fiftyTwoWeekLow': 0.088, 'bid': 0.105, 'tradeable': False, 'dividendYield': None, 'bidSize': 0, 'dayHigh': 0.11, 'regularMarketPrice': 0.107, 'logo_url': 'https://logo.clearbit.com/1414degrees.com.au'}\n",
      "Date\n",
      "2018-09-12    0.225\n",
      "2018-09-13    0.295\n",
      "2018-09-14    0.300\n",
      "2018-09-17    0.430\n",
      "2018-09-18    0.435\n",
      "Name: Close, dtype: float64\n",
      "                                       2021-06-30 2020-06-30 2019-06-30  \\\n",
      "Research Development                       6553.0     6553.0     6553.0   \n",
      "Effect Of Accounting Charges                 None       None       None   \n",
      "Income Before Tax                      -5974178.0 -2865958.0 -4270815.0   \n",
      "Minority Interest                            None       None       None   \n",
      "Net Income                             -5974178.0 -2865958.0 -4270815.0   \n",
      "Selling General Administrative          3065841.0  2637950.0  3234695.0   \n",
      "Gross Profit                                  0.0        0.0        0.0   \n",
      "Ebit                                   -3002435.0 -2859413.0 -3908193.0   \n",
      "Operating Income                       -3002435.0 -2859413.0 -3908193.0   \n",
      "Other Operating Expenses                -206731.0   -78758.0   639840.0   \n",
      "Interest Expense                        -104249.0   -85743.0   -74507.0   \n",
      "Extraordinary Items                          None       None       None   \n",
      "Non Recurring                                None       None       None   \n",
      "Other Items                                  None       None       None   \n",
      "Income Tax Expense                            0.0        0.0        0.0   \n",
      "Total Revenue                                 0.0        0.0        0.0   \n",
      "Total Operating Expenses                3002435.0  2859413.0  3908193.0   \n",
      "Cost Of Revenue                               0.0        0.0        0.0   \n",
      "Total Other Income Expense Net         -2971743.0    -6545.0  -362622.0   \n",
      "Discontinued Operations                      None       None       None   \n",
      "Net Income From Continuing Ops         -5974178.0 -2865958.0 -4270815.0   \n",
      "Net Income Applicable To Common Shares -5974178.0 -2865958.0 -4270815.0   \n",
      "\n",
      "                                       2018-06-30  \n",
      "Research Development                       6553.0  \n",
      "Effect Of Accounting Charges                 None  \n",
      "Income Before Tax                      -5484860.0  \n",
      "Minority Interest                            None  \n",
      "Net Income                             -5484860.0  \n",
      "Selling General Administrative          4715576.0  \n",
      "Gross Profit                              15000.0  \n",
      "Ebit                                   -5494149.0  \n",
      "Operating Income                       -5494149.0  \n",
      "Other Operating Expenses                 769040.0  \n",
      "Interest Expense                         -74507.0  \n",
      "Extraordinary Items                          None  \n",
      "Non Recurring                                None  \n",
      "Other Items                                  None  \n",
      "Income Tax Expense                            0.0  \n",
      "Total Revenue                             15000.0  \n",
      "Total Operating Expenses                5509149.0  \n",
      "Cost Of Revenue                               0.0  \n",
      "Total Other Income Expense Net             9289.0  \n",
      "Discontinued Operations                      None  \n",
      "Net Income From Continuing Ops         -5484860.0  \n",
      "Net Income Applicable To Common Shares -5484860.0  \n",
      "        0                                      1\n",
      "0  29.32%        % of Shares Held by All Insider\n",
      "1   0.00%       % of Shares Held by Institutions\n",
      "2   0.00%        % of Float Held by Institutions\n",
      "3       0  Number of Institutions Holding Shares\n",
      "None\n",
      "                           2021-06-30  2020-06-30  2019-06-30  2018-06-30\n",
      "Intangible Assets           3789832.0   6488220.0   5109045.0   2174579.0\n",
      "Total Liab                  2288948.0   1566096.0    704352.0   1178808.0\n",
      "Total Stockholder Equity   11528336.0  14099049.0  16925931.0   4950252.0\n",
      "Other Current Liab           213686.0     57800.0     61303.0     99763.0\n",
      "Total Assets               13817284.0  15665145.0  17630283.0   6129060.0\n",
      "Common Stock               32486429.0  29197369.0  29097294.0  12954139.0\n",
      "Other Current Assets         131721.0    142882.0    216215.0    406015.0\n",
      "Retained Earnings         -21154997.0 -15215288.0 -12294474.0  -8023659.0\n",
      "Other Liab                    31072.0     14906.0     93005.0         NaN\n",
      "Good Will                   1871468.0   1871468.0         NaN         NaN\n",
      "Treasury Stock               196904.0    116968.0    123111.0     19772.0\n",
      "Cash                        5704957.0   4395479.0   9721192.0    928242.0\n",
      "Total Current Liabilities   1002644.0    575705.0    611347.0   1178808.0\n",
      "Other Stockholder Equity     196904.0    116968.0    123111.0     19772.0\n",
      "Property Plant Equipment    1774936.0   1330291.0    135487.0    139614.0\n",
      "Total Current Assets        6381048.0   5975166.0  12385751.0   3814867.0\n",
      "Net Tangible Assets         5867036.0   5739361.0  11816886.0   2775673.0\n",
      "Net Receivables              544370.0   1436805.0   2448344.0   2480610.0\n",
      "Accounts Payable             395133.0    297339.0    424013.0   1015540.0\n",
      "                                           2021-06-30  2020-06-30  2019-06-30  \\\n",
      "Change To Liabilities                        241393.0    -73990.0   -629987.0   \n",
      "Total Cashflows From Investing Activities    587159.0  -2335031.0  -3098750.0   \n",
      "Total Cash From Financing Activities        3116048.0   -398868.0  16022508.0   \n",
      "Change To Operating Activities                15524.0    -40169.0    -60684.0   \n",
      "Issuance Of Stock                           3175540.0   3175540.0  16338347.0   \n",
      "Net Income                                 -5974178.0  -2865958.0  -4270815.0   \n",
      "Change In Cash                              1309478.0  -5325713.0   8792950.0   \n",
      "Effect Of Exchange Rate                        -274.0     15400.0      3215.0   \n",
      "Total Cash From Operating Activities       -2393455.0  -2607214.0  -4134023.0   \n",
      "Depreciation                                 136772.0    300221.0     33658.0   \n",
      "Other Cashflows From Investing Activities   1970840.0   2979782.0   2999406.0   \n",
      "Change To Account Receivables                   771.0     -5851.0    167019.0   \n",
      "Other Cashflows From Financing Activities    -59492.0    -59492.0   -315839.0   \n",
      "Change To Netincome                         3186263.0     78533.0    100124.0   \n",
      "Capital Expenditures                          -7548.0    -36263.0    -29531.0   \n",
      "Net Borrowings                                    NaN   -398868.0   -398868.0   \n",
      "\n",
      "                                           2018-06-30  \n",
      "Change To Liabilities                        713702.0  \n",
      "Total Cashflows From Investing Activities  -3405201.0  \n",
      "Total Cash From Financing Activities        5847854.0  \n",
      "Change To Operating Activities              -406015.0  \n",
      "Issuance Of Stock                           5847854.0  \n",
      "Net Income                                 -5484860.0  \n",
      "Change In Cash                              -679763.0  \n",
      "Effect Of Exchange Rate                        3215.0  \n",
      "Total Cash From Operating Activities       -3122416.0  \n",
      "Depreciation                                  24533.0  \n",
      "Other Cashflows From Investing Activities   1920818.0  \n",
      "Change To Account Receivables               -143541.0  \n",
      "Other Cashflows From Financing Activities   -315839.0  \n",
      "Change To Netincome                         2173765.0  \n",
      "Capital Expenditures                        -164146.0  \n",
      "Net Borrowings                              -398868.0  \n",
      "Empty DataFrame\n",
      "Columns: [Open, High, Low, Close, Adj Close, Volume]\n",
      "Index: []\n",
      "None\n"
     ]
    }
   ],
   "source": [
    "get_info_on_stock(\"14D.AX\")"
   ]
  },
  {
   "cell_type": "code",
   "execution_count": 37,
   "metadata": {},
   "outputs": [],
   "source": [
    "stocks_not_downloaded = []\n",
    "missing_stocks = []\n"
   ]
  },
  {
   "cell_type": "code",
   "execution_count": 38,
   "metadata": {},
   "outputs": [],
   "source": [
    "def get_coloum_from_csv(file, col_name):\n",
    "    try:\n",
    "        df = pd.read_csv(file)\n",
    "    except FileNotFoundError:\n",
    "        print(\"File Doesn't Exist\")\n",
    "    else:\n",
    "        return df[col_name]"
   ]
  },
  {
   "cell_type": "markdown",
   "metadata": {},
   "source": [
    "get stock tickers"
   ]
  },
  {
   "cell_type": "code",
   "execution_count": 39,
   "metadata": {},
   "outputs": [
    {
     "name": "stdout",
     "output_type": "stream",
     "text": [
      "0    AACG\n",
      "1    AACI\n",
      "2    AADI\n",
      "3     AAL\n",
      "4    AAME\n",
      "5    AAOI\n",
      "6    AAON\n",
      "7    AAPL\n",
      "8    AATC\n",
      "9    AAWW\n",
      "Name: Symbol, dtype: object\n"
     ]
    }
   ],
   "source": [
    "\n",
    "tickers = get_coloum_from_csv(\"C:/Users/Taylor/Documents/Documents/Invest_DS/StockEX/nasdaq_screener_1644329872846.csv\", \"Symbol\")\n",
    "tickers = tickers[:10]\n",
    "print(tickers)"
   ]
  },
  {
   "cell_type": "code",
   "execution_count": 40,
   "metadata": {},
   "outputs": [],
   "source": [
    "def save_to_csv_from_yahoo(folder, ticker):\n",
    "    stock = yf.Ticker(ticker)\n",
    "    try:\n",
    "        print(\"get data for : \", ticker)\n",
    "        df = stock.history(period=\"5y\")\n",
    "        time.sleep(2)\n",
    "        if df.empty:\n",
    "            stocks_not_downloaded.append(ticker)\n",
    "        the_file = folder + ticker.replace(\".\",\"_\") + '.csv'\n",
    "        df.to_csv(the_file)\n",
    "    except Exception as ex:\n",
    "        stocks_not_downloaded.append(ticker)\n",
    "        \n",
    "        print(\"couldn't get data for :\" , ticker)\n"
   ]
  },
  {
   "cell_type": "code",
   "execution_count": 41,
   "metadata": {},
   "outputs": [
    {
     "name": "stdout",
     "output_type": "stream",
     "text": [
      "get data for :  AACG\n",
      "get data for :  AACI\n",
      "get data for :  AADI\n",
      "get data for :  AAL\n",
      "get data for :  AAME\n",
      "get data for :  AAOI\n",
      "get data for :  AAON\n",
      "get data for :  AAPL\n",
      "get data for :  AATC\n",
      "get data for :  AAWW\n"
     ]
    },
    {
     "data": {
      "text/plain": [
       "[None, None, None, None, None, None, None, None, None, None]"
      ]
     },
     "execution_count": 41,
     "metadata": {},
     "output_type": "execute_result"
    }
   ],
   "source": [
    "folder = \"C:/Users/Taylor/Documents/Documents/Invest_DS/StockTickerData/nasdaq/\"\n",
    "[save_to_csv_from_yahoo(folder, x) for x in tickers]"
   ]
  }
 ],
 "metadata": {
  "interpreter": {
   "hash": "dd5b068fe7d4d9e3a22061fb46eb98408487a1c8260eed0b644666961e993c2b"
  },
  "kernelspec": {
   "display_name": "Python 3.9.5 64-bit ('gpu': conda)",
   "language": "python",
   "name": "python3"
  },
  "language_info": {
   "codemirror_mode": {
    "name": "ipython",
    "version": 3
   },
   "file_extension": ".py",
   "mimetype": "text/x-python",
   "name": "python",
   "nbconvert_exporter": "python",
   "pygments_lexer": "ipython3",
   "version": "3.9.5"
  },
  "orig_nbformat": 4
 },
 "nbformat": 4,
 "nbformat_minor": 2
}
