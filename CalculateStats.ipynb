{
 "cells": [
  {
   "cell_type": "code",
   "execution_count": 51,
   "metadata": {},
   "outputs": [
    {
     "data": {
      "text/html": [
       "        <script type=\"text/javascript\">\n",
       "        window.PlotlyConfig = {MathJaxConfig: 'local'};\n",
       "        if (window.MathJax) {MathJax.Hub.Config({SVG: {font: \"STIX-Web\"}});}\n",
       "        if (typeof require !== 'undefined') {\n",
       "        require.undef(\"plotly\");\n",
       "        requirejs.config({\n",
       "            paths: {\n",
       "                'plotly': ['https://cdn.plot.ly/plotly-2.8.3.min']\n",
       "            }\n",
       "        });\n",
       "        require(['plotly'], function(Plotly) {\n",
       "            window._Plotly = Plotly;\n",
       "        });\n",
       "        }\n",
       "        </script>\n",
       "        "
      ]
     },
     "metadata": {},
     "output_type": "display_data"
    },
    {
     "data": {
      "text/html": [
       "        <script type=\"text/javascript\">\n",
       "        window.PlotlyConfig = {MathJaxConfig: 'local'};\n",
       "        if (window.MathJax) {MathJax.Hub.Config({SVG: {font: \"STIX-Web\"}});}\n",
       "        if (typeof require !== 'undefined') {\n",
       "        require.undef(\"plotly\");\n",
       "        requirejs.config({\n",
       "            paths: {\n",
       "                'plotly': ['https://cdn.plot.ly/plotly-2.8.3.min']\n",
       "            }\n",
       "        });\n",
       "        require(['plotly'], function(Plotly) {\n",
       "            window._Plotly = Plotly;\n",
       "        });\n",
       "        }\n",
       "        </script>\n",
       "        "
      ]
     },
     "metadata": {},
     "output_type": "display_data"
    }
   ],
   "source": [
    "# Provides ways to work with large multidimensional arrays\n",
    "import numpy as np \n",
    "# Allows for further data manipulation and analysis\n",
    "import pandas as pd \n",
    "import matplotlib.pyplot as plt # Plotting\n",
    "import matplotlib.dates as mdates # Styling dates\n",
    "%matplotlib inline\n",
    "\n",
    "# pip install numpy\n",
    "# conda install -c anaconda pandas\n",
    "# conda install -c conda-forge matplotlib\n",
    "\n",
    "import datetime as dt # For defining dates\n",
    "\n",
    "import time\n",
    "\n",
    "# In Powershell Prompt : conda install -c conda-forge multitasking\n",
    "# pip install -i https://pypi.anaconda.org/ranaroussi/simple yfinance\n",
    "\n",
    "import yfinance as yf\n",
    "\n",
    "# To show all your output File -> Preferences -> Settings Search for Notebook\n",
    "# Notebook Output Text Line Limit and set to 100\n",
    "\n",
    "# Used for file handling like deleting files\n",
    "import os\n",
    "\n",
    "# conda install -c conda-forge cufflinks-py\n",
    "# conda install -c plotly plotly\n",
    "import cufflinks as cf\n",
    "import plotly.express as px\n",
    "import plotly.graph_objects as go\n",
    "\n",
    "# Make Plotly work in your Jupyter Notebook\n",
    "from plotly.offline import download_plotlyjs, init_notebook_mode, plot, iplot\n",
    "init_notebook_mode(connected=True)\n",
    "# Use Plotly locally\n",
    "cf.go_offline()\n",
    "\n",
    "from plotly.subplots import make_subplots\n",
    "\n",
    "# New Imports\n",
    "# Used to get data from a directory\n",
    "import os\n",
    "from os import listdir\n",
    "from os.path import isfile, join\n",
    "\n",
    "import warnings\n",
    "warnings.simplefilter(\"ignore\")"
   ]
  },
  {
   "cell_type": "code",
   "execution_count": 52,
   "metadata": {},
   "outputs": [],
   "source": [
    "PATH = \"C:/Users/Taylor/Documents/Documents/Invest_DS/StockTickerData/nasdaq/\""
   ]
  },
  {
   "cell_type": "code",
   "execution_count": 53,
   "metadata": {},
   "outputs": [
    {
     "data": {
      "text/plain": [
       "10"
      ]
     },
     "execution_count": 53,
     "metadata": {},
     "output_type": "execute_result"
    }
   ],
   "source": [
    "files = [x for x in listdir(PATH) if isfile(join(PATH, x))]\n",
    "tickers = [os.path.splitext(x)[0] for x in files]\n",
    "tickers\n",
    "# tickers.remove('.ds_Store') MacOS Only\n",
    "tickers.sort()\n",
    "len(tickers)"
   ]
  },
  {
   "cell_type": "code",
   "execution_count": 54,
   "metadata": {},
   "outputs": [],
   "source": [
    "def get_stock_df_from_csv(ticker):\n",
    "    try:\n",
    "        df = pd.read_csv(PATH + ticker + '.csv', index_col=0)\n",
    "    except FileNotFoundError:\n",
    "        print(\"File Doesn't Exist\")\n",
    "    else:\n",
    "        return df    "
   ]
  },
  {
   "cell_type": "code",
   "execution_count": 55,
   "metadata": {},
   "outputs": [],
   "source": [
    "def add_daily_return_to_df(df):\n",
    "    df['daily_return'] = (df['Close'] - df['Close'].shift(1)) / df['Close'].shift(1)\n",
    "    # df['daily_return'] = (df['Close'] / df['Close'].shift(1)) - 1\n",
    "    return df"
   ]
  },
  {
   "cell_type": "code",
   "execution_count": 56,
   "metadata": {},
   "outputs": [],
   "source": [
    "def add_cum_return_to_df(df):\n",
    "    df['cum_return'] = (1 + df['daily_return']).cumprod()\n",
    "    return df"
   ]
  },
  {
   "cell_type": "code",
   "execution_count": 57,
   "metadata": {},
   "outputs": [],
   "source": [
    "def add_moving_average(df, day):\n",
    "    df['moving_average'] = df['Close'].rolling(window=day).mean()\n",
    "    return df"
   ]
  },
  {
   "cell_type": "code",
   "execution_count": 58,
   "metadata": {},
   "outputs": [],
   "source": [
    "def add_std_deviation(df, day):\n",
    "    df['std_deviation'] = df['Close'].rolling(window=day).std()\n",
    "    return df"
   ]
  },
  {
   "cell_type": "code",
   "execution_count": 59,
   "metadata": {},
   "outputs": [],
   "source": [
    "def add_bollinger_bands(df):\n",
    "    df['upper_band'] = df['moving_average'] + 1.96 * df['std_deviation']\n",
    "    df['lower_band'] = df['moving_average'] - 1.96 * df['std_deviation']\n",
    "    return df"
   ]
  },
  {
   "cell_type": "code",
   "execution_count": 60,
   "metadata": {},
   "outputs": [],
   "source": [
    "def add_ichimoku(df):\n",
    "    hi_val_1 = df['High'].rolling(window=9).max()\n",
    "    low_val_1 = df['Low'].rolling(window=9).min()\n",
    "    df['tenkan-sen'] = hi_val_1 + low_val_1 / 2 \n",
    "\n",
    "    hi_val_2 = df['High'].rolling(window=26).max()\n",
    "    low_val_2 = df['Low'].rolling(window=26).min()\n",
    "    df['kijun-sen'] = hi_val_2 + low_val_2 / 2 \n",
    "\n",
    "    df['senkou_span_a'] = ((df['tenkan-sen'] + df['kijun-sen']) / 2 ).shift(26)\n",
    "\n",
    "    hi_val_3 = df['High'].rolling(window=52).max()\n",
    "    low_val_3 = df['Low'].rolling(window=52).min()\n",
    "    df['senkou_span_b'] = ((df['tenkan-sen'] + df['kijun-sen']) / 2 ).rolling(window=52).mean()\n",
    "\n",
    "    df['Chikou_span'] = df['Close'].shift(-26)\n",
    "\n",
    "    return df"
   ]
  },
  {
   "cell_type": "code",
   "execution_count": 61,
   "metadata": {},
   "outputs": [
    {
     "name": "stdout",
     "output_type": "stream",
     "text": [
      "Working on : AACG\n",
      "Saved\n",
      "Working on : AACI\n",
      "Saved\n",
      "Working on : AADI\n",
      "Saved\n",
      "Working on : AAL\n",
      "Saved\n",
      "Working on : AAME\n",
      "Saved\n",
      "Working on : AAOI\n",
      "Saved\n",
      "Working on : AAON\n",
      "Saved\n",
      "Working on : AAPL\n",
      "Saved\n",
      "Working on : AATC\n",
      "Saved\n",
      "Working on : AAWW\n",
      "Saved\n"
     ]
    }
   ],
   "source": [
    "for x in tickers:\n",
    "    try:\n",
    "        print(\"Working on :\", x)\n",
    "        df = get_stock_df_from_csv(x)\n",
    "        df = add_daily_return_to_df(df)\n",
    "        df = add_cum_return_to_df(df)\n",
    "        df = add_moving_average(df, day)\n",
    "        df = add_std_deviation(df, day)\n",
    "        df = add_bollinger_bands(df)\n",
    "        df = add_ichimoku(df)\n",
    "        df.to_csv(PATH + x + \".csv\")\n",
    "    except Exception as ex:\n",
    "        print(ex)\n",
    "    print('Saved')"
   ]
  }
 ],
 "metadata": {
  "interpreter": {
   "hash": "dd5b068fe7d4d9e3a22061fb46eb98408487a1c8260eed0b644666961e993c2b"
  },
  "kernelspec": {
   "display_name": "Python 3.9.5 64-bit ('gpu': conda)",
   "language": "python",
   "name": "python3"
  },
  "language_info": {
   "codemirror_mode": {
    "name": "ipython",
    "version": 3
   },
   "file_extension": ".py",
   "mimetype": "text/x-python",
   "name": "python",
   "nbconvert_exporter": "python",
   "pygments_lexer": "ipython3",
   "version": "3.9.5"
  },
  "orig_nbformat": 4
 },
 "nbformat": 4,
 "nbformat_minor": 2
}
